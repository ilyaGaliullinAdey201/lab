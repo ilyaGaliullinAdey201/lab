{
  "nbformat": 4,
  "nbformat_minor": 0,
  "metadata": {
    "colab": {
      "name": "lab1",
      "provenance": [],
      "collapsed_sections": [],
      "include_colab_link": true
    },
    "kernelspec": {
      "name": "python3",
      "display_name": "Python 3"
    }
  },
  "cells": [
    {
      "cell_type": "markdown",
      "metadata": {
        "id": "view-in-github",
        "colab_type": "text"
      },
      "source": [
        "<a href=\"https://colab.research.google.com/github/ilyaGaliullinAdey201/lab/blob/main/lab1.ipynb\" target=\"_parent\"><img src=\"https://colab.research.google.com/assets/colab-badge.svg\" alt=\"Open In Colab\"/></a>"
      ]
    },
    {
      "cell_type": "markdown",
      "metadata": {
        "id": "Np_U4bx6bfHj"
      },
      "source": [
        "1.1. Считайте число n. Создайте в переменной Z Numpy вектор из нулей длины n.\n",
        "Примечание. В этой задаче не нужно ничего выводить на печать. Только создать вектор Z.\n",
        "Sample Input:\n",
        "5\n",
        "Sample Output:\n",
        "[0. 0. 0. 0. 0.]\n"
      ]
    },
    {
      "cell_type": "code",
      "metadata": {
        "id": "JnICBxEfINCg"
      },
      "source": [
        "import numpy as np\n",
        "import timeit"
      ],
      "execution_count": null,
      "outputs": []
    },
    {
      "cell_type": "markdown",
      "metadata": {
        "id": "uWpIGoTiIfdA"
      },
      "source": [
        "Решение задачи с numpy"
      ]
    },
    {
      "cell_type": "code",
      "metadata": {
        "id": "2qAcwioTIYuR"
      },
      "source": [
        "n = int(input())\n",
        "Z = np.zeros(n)\n",
        "print(Z)"
      ],
      "execution_count": null,
      "outputs": []
    },
    {
      "cell_type": "markdown",
      "metadata": {
        "id": "olmgRF6AIow8"
      },
      "source": [
        "Решение задачи без numpy"
      ]
    },
    {
      "cell_type": "code",
      "metadata": {
        "id": "dv54ZNnGIvU7"
      },
      "source": [
        "Z = ''\n",
        "n = int(input())\n",
        "Z += '['\n",
        "while n > 0:\n",
        "  Z += '0. '\n",
        "  n -= 1\n",
        "Z = Z[0:-1]\n",
        "Z += ']'\n",
        "print(Z)"
      ],
      "execution_count": null,
      "outputs": []
    },
    {
      "cell_type": "markdown",
      "metadata": {
        "id": "4Vf-rtFZLg-i"
      },
      "source": [
        "Теперь узнаем время работы решения задачи с numpy и без numpy, сравним их и сделаем выводы."
      ]
    },
    {
      "cell_type": "code",
      "metadata": {
        "id": "HicXSCciLrnA"
      },
      "source": [
        "def vector_n(n):\n",
        "  Z = np.zeros(n)\n",
        "  return Z\n",
        "\n",
        "\n",
        "def vector(n):\n",
        "  Z = ''\n",
        "  Z += '['\n",
        "  while n > 0:\n",
        "    Z += '0. '\n",
        "    n -= 1\n",
        "  Z = Z[0:-1]\n",
        "  Z += ']'\n",
        "  return Z\n",
        "\n",
        "\n",
        "if __name__ == '__main__':\n",
        "  start_time = timeit.default_timer()\n",
        "  vector_n(250)\n",
        "  range_time_1 = timeit.default_timer() - start_time\n",
        "  print(type(vector_n(250)))\n",
        "\n",
        "  start_time = timeit.default_timer()\n",
        "  vector(250)\n",
        "  arange_time_1 = timeit.default_timer() - start_time\n",
        "  print(type(vector(250)))"
      ],
      "execution_count": null,
      "outputs": []
    },
    {
      "cell_type": "code",
      "metadata": {
        "colab": {
          "base_uri": "https://localhost:8080/"
        },
        "id": "t8ws4fv4UDHn",
        "outputId": "a5212ad2-0cc5-4be4-c15c-2794ab6ffe35"
      },
      "source": [
        "if range_time_1 > arange_time_1:\n",
        "    print('В этом случае numpy не ликвиден')\n",
        "elif range_time_1 < arange_time_1:\n",
        "    print('В этом случае numpy ликвиден')\n",
        "else:\n",
        "    print('Подходят оба варианта, время равное')\n",
        "  \n",
        "print(f' время работы решения задачи с numpy {range_time_1}')\n",
        "print(f' время работы решения задачи без numpy {arange_time_1}')"
      ],
      "execution_count": null,
      "outputs": [
        {
          "output_type": "stream",
          "text": [
            "В этом случае numpy ликвиден\n",
            " время работы решения задачи с numpy 3.193999999950847e-05\n",
            " время работы решения задачи без numpy 8.243000000618395e-05\n"
          ],
          "name": "stdout"
        }
      ]
    },
    {
      "cell_type": "markdown",
      "metadata": {
        "id": "1wqk7oHjQGCF"
      },
      "source": [
        "ВЫВОД:\n",
        "Для длины вектора примерно до 220 нет смысла использовать numpy, так как метод решения задачи без него работает быстрее, а для длины вектора примерно больше 230 имеет смысл использовать numpy, так как метод решения задачи с ним работает быстрее, а без него - медленнее.\n",
        "Таким образом, numpy лучше использовать для данных больших объемов."
      ]
    }
  ]
}